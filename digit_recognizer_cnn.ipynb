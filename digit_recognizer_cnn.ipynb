{
 "cells": [
  {
   "cell_type": "code",
   "execution_count": 1,
   "id": "eb8cf044",
   "metadata": {
    "execution": {
     "iopub.execute_input": "2021-07-20T01:06:59.781607Z",
     "iopub.status.busy": "2021-07-20T01:06:59.780983Z",
     "iopub.status.idle": "2021-07-20T01:07:04.613192Z",
     "shell.execute_reply": "2021-07-20T01:07:04.612371Z",
     "shell.execute_reply.started": "2021-07-20T01:00:52.556597Z"
    },
    "papermill": {
     "duration": 4.857191,
     "end_time": "2021-07-20T01:07:04.613385",
     "exception": false,
     "start_time": "2021-07-20T01:06:59.756194",
     "status": "completed"
    },
    "tags": []
   },
   "outputs": [],
   "source": [
    "import numpy as np\n",
    "import pandas as pd\n",
    "import matplotlib.pyplot as plt\n",
    "\n",
    "from sklearn.model_selection import train_test_split\n",
    "from sklearn.metrics import confusion_matrix\n",
    "\n",
    "from keras.utils import np_utils\n",
    "from keras.models import Sequential\n",
    "from keras.layers.convolutional import Conv2D, MaxPooling2D\n",
    "from keras.layers.core import Flatten, Dense\n",
    "from keras.optimizers import SGD, Adam"
   ]
  },
  {
   "cell_type": "markdown",
   "id": "563fe252",
   "metadata": {
    "papermill": {
     "duration": 0.020326,
     "end_time": "2021-07-20T01:07:04.655009",
     "exception": false,
     "start_time": "2021-07-20T01:07:04.634683",
     "status": "completed"
    },
    "tags": []
   },
   "source": [
    "Load Data and Pre-processig"
   ]
  },
  {
   "cell_type": "code",
   "execution_count": 2,
   "id": "b9658c4d",
   "metadata": {
    "execution": {
     "iopub.execute_input": "2021-07-20T01:07:04.702025Z",
     "iopub.status.busy": "2021-07-20T01:07:04.700701Z",
     "iopub.status.idle": "2021-07-20T01:07:09.589533Z",
     "shell.execute_reply": "2021-07-20T01:07:09.589021Z",
     "shell.execute_reply.started": "2021-07-20T01:01:00.112148Z"
    },
    "papermill": {
     "duration": 4.914708,
     "end_time": "2021-07-20T01:07:09.589729",
     "exception": false,
     "start_time": "2021-07-20T01:07:04.675021",
     "status": "completed"
    },
    "tags": []
   },
   "outputs": [],
   "source": [
    "x_train = pd.read_csv('../input/digit-recognizer/train.csv')\n",
    "x_val = pd.read_csv('../input/digit-recognizer/test.csv')\n",
    "\n",
    "y_train = x_train.iloc[:,0]\n",
    "x_train = x_train.iloc[:,1:]\n",
    "x_val = x_val.iloc[:,:]"
   ]
  },
  {
   "cell_type": "code",
   "execution_count": 3,
   "id": "52ee1ef9",
   "metadata": {
    "execution": {
     "iopub.execute_input": "2021-07-20T01:07:09.621392Z",
     "iopub.status.busy": "2021-07-20T01:07:09.620418Z",
     "iopub.status.idle": "2021-07-20T01:07:10.150150Z",
     "shell.execute_reply": "2021-07-20T01:07:10.150587Z",
     "shell.execute_reply.started": "2021-07-20T01:01:05.662198Z"
    },
    "papermill": {
     "duration": 0.548106,
     "end_time": "2021-07-20T01:07:10.150733",
     "exception": false,
     "start_time": "2021-07-20T01:07:09.602627",
     "status": "completed"
    },
    "tags": []
   },
   "outputs": [
    {
     "name": "stdout",
     "output_type": "stream",
     "text": [
      "(37800, 784)\n",
      "(37800,)\n",
      "(4200, 784)\n",
      "(4200,)\n",
      "(28000, 784)\n"
     ]
    }
   ],
   "source": [
    "x_train = np.asarray(x_train)/255.\n",
    "y_train = np.asarray(y_train)\n",
    "x_val = np.asarray(x_val)/255.\n",
    "\n",
    "x_train, x_test, y_train, y_test = train_test_split(x_train, y_train, test_size=0.1, random_state=42)\n",
    "\n",
    "print(x_train.shape)\n",
    "print(y_train.shape)\n",
    "print(x_test.shape)\n",
    "print(y_test.shape)\n",
    "print(x_val.shape)"
   ]
  },
  {
   "cell_type": "markdown",
   "id": "5cba0164",
   "metadata": {
    "papermill": {
     "duration": 0.013282,
     "end_time": "2021-07-20T01:07:10.177208",
     "exception": false,
     "start_time": "2021-07-20T01:07:10.163926",
     "status": "completed"
    },
    "tags": []
   },
   "source": [
    "View Data"
   ]
  },
  {
   "cell_type": "code",
   "execution_count": 4,
   "id": "ad6b7c19",
   "metadata": {
    "execution": {
     "iopub.execute_input": "2021-07-20T01:07:10.220140Z",
     "iopub.status.busy": "2021-07-20T01:07:10.219488Z",
     "iopub.status.idle": "2021-07-20T01:07:10.333836Z",
     "shell.execute_reply": "2021-07-20T01:07:10.334232Z",
     "shell.execute_reply.started": "2021-07-20T01:01:12.390592Z"
    },
    "papermill": {
     "duration": 0.14443,
     "end_time": "2021-07-20T01:07:10.334355",
     "exception": false,
     "start_time": "2021-07-20T01:07:10.189925",
     "status": "completed"
    },
    "tags": []
   },
   "outputs": [
    {
     "data": {
      "image/png": "[encoded data removed]",
      "text/plain": [
       "<Figure size 432x288 with 1 Axes>"
      ]
     },
     "metadata": {
      "needs_background": "light"
     },
     "output_type": "display_data"
    }
   ],
   "source": [
    "num = int(np.random.rand() * (len(x_train)))\n",
    "plt.imshow(x_train[num].reshape(28,28))\n",
    "y_ = y_train[num]\n",
    "plt.title(y_)\n",
    "plt.show()"
   ]
  },
  {
   "cell_type": "code",
   "execution_count": 5,
   "id": "297292f7",
   "metadata": {
    "execution": {
     "iopub.execute_input": "2021-07-20T01:07:10.367597Z",
     "iopub.status.busy": "2021-07-20T01:07:10.365842Z",
     "iopub.status.idle": "2021-07-20T01:07:10.370808Z",
     "shell.execute_reply": "2021-07-20T01:07:10.370374Z",
     "shell.execute_reply.started": "2021-07-20T01:01:17.256087Z"
    },
    "papermill": {
     "duration": 0.023176,
     "end_time": "2021-07-20T01:07:10.370916",
     "exception": false,
     "start_time": "2021-07-20T01:07:10.347740",
     "status": "completed"
    },
    "tags": []
   },
   "outputs": [
    {
     "name": "stdout",
     "output_type": "stream",
     "text": [
      "(37800, 28, 28, 1)\n",
      "(4200, 28, 28, 1)\n"
     ]
    }
   ],
   "source": [
    "x_train = np.reshape(x_train, (len(x_train), 28, 28, 1))\n",
    "x_test = np.reshape(x_test, (len(x_test), 28, 28, 1))\n",
    "x_val = np.reshape(x_val, (len(x_val), 28, 28, 1))\n",
    "\n",
    "y_train = np_utils.to_categorical(y_train,10)\n",
    "y_test = np_utils.to_categorical(y_test,10)\n",
    "\n",
    "print(x_train.shape)\n",
    "print(x_test.shape)"
   ]
  },
  {
   "cell_type": "markdown",
   "id": "16d36d1f",
   "metadata": {
    "papermill": {
     "duration": 0.013313,
     "end_time": "2021-07-20T01:07:10.397697",
     "exception": false,
     "start_time": "2021-07-20T01:07:10.384384",
     "status": "completed"
    },
    "tags": []
   },
   "source": [
    "Model"
   ]
  },
  {
   "cell_type": "code",
   "execution_count": 6,
   "id": "acfb4101",
   "metadata": {
    "execution": {
     "iopub.execute_input": "2021-07-20T01:07:10.431376Z",
     "iopub.status.busy": "2021-07-20T01:07:10.430815Z",
     "iopub.status.idle": "2021-07-20T01:07:12.260781Z",
     "shell.execute_reply": "2021-07-20T01:07:12.259829Z",
     "shell.execute_reply.started": "2021-07-20T01:02:24.274970Z"
    },
    "papermill": {
     "duration": 1.849554,
     "end_time": "2021-07-20T01:07:12.260918",
     "exception": false,
     "start_time": "2021-07-20T01:07:10.411364",
     "status": "completed"
    },
    "tags": []
   },
   "outputs": [],
   "source": [
    "model = Sequential()\n",
    "\n",
    "# CONV1 Y MAX-POOLING1\n",
    "model.add(Conv2D(filters=32, kernel_size=(3,3), activation='relu', input_shape=(28,28,1)))\n",
    "model.add(MaxPooling2D(pool_size=(2,2)))\n",
    "\n",
    "# CONV2 Y MAX-POOLING2\n",
    "model.add(Conv2D(filters=64, kernel_size=(3,3), activation='relu'))\n",
    "model.add(MaxPooling2D(pool_size=(2,2)))\n",
    "\n",
    "# CONV3 Y MAX-POOLING3\n",
    "model.add(Conv2D(filters=128, kernel_size=(3,3), activation='relu'))\n",
    "model.add(MaxPooling2D(pool_size=(2,2)))\n",
    "\n",
    "# Aplanar, FC1, FC2 y salida\n",
    "model.add(Flatten())\n",
    "model.add(Dense(96,activation='relu'))\n",
    "model.add(Dense(96,activation='relu'))\n",
    "model.add(Dense(10,activation='softmax'))"
   ]
  },
  {
   "cell_type": "code",
   "execution_count": 7,
   "id": "d807e93a",
   "metadata": {
    "execution": {
     "iopub.execute_input": "2021-07-20T01:07:12.297521Z",
     "iopub.status.busy": "2021-07-20T01:07:12.292787Z",
     "iopub.status.idle": "2021-07-20T01:07:12.300644Z",
     "shell.execute_reply": "2021-07-20T01:07:12.301040Z",
     "shell.execute_reply.started": "2021-07-20T01:02:28.316570Z"
    },
    "papermill": {
     "duration": 0.026323,
     "end_time": "2021-07-20T01:07:12.301174",
     "exception": false,
     "start_time": "2021-07-20T01:07:12.274851",
     "status": "completed"
    },
    "tags": []
   },
   "outputs": [
    {
     "name": "stdout",
     "output_type": "stream",
     "text": [
      "Model: \"sequential\"\n",
      "_________________________________________________________________\n",
      "Layer (type)                 Output Shape              Param #   \n",
      "=================================================================\n",
      "conv2d (Conv2D)              (None, 26, 26, 32)        320       \n",
      "_________________________________________________________________\n",
      "max_pooling2d (MaxPooling2D) (None, 13, 13, 32)        0         \n",
      "_________________________________________________________________\n",
      "conv2d_1 (Conv2D)            (None, 11, 11, 64)        18496     \n",
      "_________________________________________________________________\n",
      "max_pooling2d_1 (MaxPooling2 (None, 5, 5, 64)          0         \n",
      "_________________________________________________________________\n",
      "conv2d_2 (Conv2D)            (None, 3, 3, 128)         73856     \n",
      "_________________________________________________________________\n",
      "max_pooling2d_2 (MaxPooling2 (None, 1, 1, 128)         0         \n",
      "_________________________________________________________________\n",
      "flatten (Flatten)            (None, 128)               0         \n",
      "_________________________________________________________________\n",
      "dense (Dense)                (None, 96)                12384     \n",
      "_________________________________________________________________\n",
      "dense_1 (Dense)              (None, 96)                9312      \n",
      "_________________________________________________________________\n",
      "dense_2 (Dense)              (None, 10)                970       \n",
      "=================================================================\n",
      "Total params: 115,338\n",
      "Trainable params: 115,338\n",
      "Non-trainable params: 0\n",
      "_________________________________________________________________\n"
     ]
    }
   ],
   "source": [
    "model.summary()"
   ]
  },
  {
   "cell_type": "code",
   "execution_count": 8,
   "id": "0834ebb0",
   "metadata": {
    "execution": {
     "iopub.execute_input": "2021-07-20T01:07:12.338972Z",
     "iopub.status.busy": "2021-07-20T01:07:12.338293Z",
     "iopub.status.idle": "2021-07-20T01:09:22.177181Z",
     "shell.execute_reply": "2021-07-20T01:09:22.177549Z",
     "shell.execute_reply.started": "2021-07-20T01:02:33.503163Z"
    },
    "papermill": {
     "duration": 129.862821,
     "end_time": "2021-07-20T01:09:22.177748",
     "exception": false,
     "start_time": "2021-07-20T01:07:12.314927",
     "status": "completed"
    },
    "tags": []
   },
   "outputs": [
    {
     "name": "stdout",
     "output_type": "stream",
     "text": [
      "Epoch 1/30\n",
      "1182/1182 [==============================] - 11s 4ms/step - loss: 1.8710 - accuracy: 0.4577 - val_loss: 0.3216 - val_accuracy: 0.9033\n",
      "Epoch 2/30\n",
      "1182/1182 [==============================] - 4s 4ms/step - loss: 0.2688 - accuracy: 0.9159 - val_loss: 0.2402 - val_accuracy: 0.9238\n",
      "Epoch 3/30\n",
      "1182/1182 [==============================] - 4s 3ms/step - loss: 0.1637 - accuracy: 0.9475 - val_loss: 0.1285 - val_accuracy: 0.9602\n",
      "Epoch 4/30\n",
      "1182/1182 [==============================] - 5s 4ms/step - loss: 0.1268 - accuracy: 0.9611 - val_loss: 0.4194 - val_accuracy: 0.8700\n",
      "Epoch 5/30\n",
      "1182/1182 [==============================] - 4s 3ms/step - loss: 0.1081 - accuracy: 0.9650 - val_loss: 0.1003 - val_accuracy: 0.9681\n",
      "Epoch 6/30\n",
      "1182/1182 [==============================] - 4s 3ms/step - loss: 0.0893 - accuracy: 0.9728 - val_loss: 0.0971 - val_accuracy: 0.9693\n",
      "Epoch 7/30\n",
      "1182/1182 [==============================] - 4s 3ms/step - loss: 0.0794 - accuracy: 0.9757 - val_loss: 0.0830 - val_accuracy: 0.9719\n",
      "Epoch 8/30\n",
      "1182/1182 [==============================] - 4s 3ms/step - loss: 0.0690 - accuracy: 0.9781 - val_loss: 0.0748 - val_accuracy: 0.9767\n",
      "Epoch 9/30\n",
      "1182/1182 [==============================] - 4s 3ms/step - loss: 0.0638 - accuracy: 0.9798 - val_loss: 0.0683 - val_accuracy: 0.9798\n",
      "Epoch 10/30\n",
      "1182/1182 [==============================] - 4s 3ms/step - loss: 0.0576 - accuracy: 0.9814 - val_loss: 0.0771 - val_accuracy: 0.9755\n",
      "Epoch 11/30\n",
      "1182/1182 [==============================] - 4s 3ms/step - loss: 0.0525 - accuracy: 0.9829 - val_loss: 0.0852 - val_accuracy: 0.9731\n",
      "Epoch 12/30\n",
      "1182/1182 [==============================] - 4s 3ms/step - loss: 0.0491 - accuracy: 0.9850 - val_loss: 0.0712 - val_accuracy: 0.9786\n",
      "Epoch 13/30\n",
      "1182/1182 [==============================] - 4s 4ms/step - loss: 0.0476 - accuracy: 0.9855 - val_loss: 0.0959 - val_accuracy: 0.9702\n",
      "Epoch 14/30\n",
      "1182/1182 [==============================] - 4s 3ms/step - loss: 0.0422 - accuracy: 0.9866 - val_loss: 0.0634 - val_accuracy: 0.9788\n",
      "Epoch 15/30\n",
      "1182/1182 [==============================] - 4s 3ms/step - loss: 0.0391 - accuracy: 0.9876 - val_loss: 0.0970 - val_accuracy: 0.9700\n",
      "Epoch 16/30\n",
      "1182/1182 [==============================] - 4s 3ms/step - loss: 0.0333 - accuracy: 0.9897 - val_loss: 0.2240 - val_accuracy: 0.9417\n",
      "Epoch 17/30\n",
      "1182/1182 [==============================] - 4s 3ms/step - loss: 0.0349 - accuracy: 0.9892 - val_loss: 0.1469 - val_accuracy: 0.9593\n",
      "Epoch 18/30\n",
      "1182/1182 [==============================] - 4s 4ms/step - loss: 0.0351 - accuracy: 0.9886 - val_loss: 0.0559 - val_accuracy: 0.9807\n",
      "Epoch 19/30\n",
      "1182/1182 [==============================] - 4s 3ms/step - loss: 0.0297 - accuracy: 0.9902 - val_loss: 0.0640 - val_accuracy: 0.9783\n",
      "Epoch 20/30\n",
      "1182/1182 [==============================] - 4s 4ms/step - loss: 0.0276 - accuracy: 0.9916 - val_loss: 0.0551 - val_accuracy: 0.9836\n",
      "Epoch 21/30\n",
      "1182/1182 [==============================] - 4s 4ms/step - loss: 0.0233 - accuracy: 0.9927 - val_loss: 0.0558 - val_accuracy: 0.9821\n",
      "Epoch 22/30\n",
      "1182/1182 [==============================] - 4s 3ms/step - loss: 0.0209 - accuracy: 0.9933 - val_loss: 0.0544 - val_accuracy: 0.9824\n",
      "Epoch 23/30\n",
      "1182/1182 [==============================] - 4s 3ms/step - loss: 0.0217 - accuracy: 0.9936 - val_loss: 0.1534 - val_accuracy: 0.9579\n",
      "Epoch 24/30\n",
      "1182/1182 [==============================] - 4s 3ms/step - loss: 0.0205 - accuracy: 0.9933 - val_loss: 0.0517 - val_accuracy: 0.9836\n",
      "Epoch 25/30\n",
      "1182/1182 [==============================] - 4s 3ms/step - loss: 0.0179 - accuracy: 0.9944 - val_loss: 0.0567 - val_accuracy: 0.9840\n",
      "Epoch 26/30\n",
      "1182/1182 [==============================] - 4s 4ms/step - loss: 0.0150 - accuracy: 0.9953 - val_loss: 0.0595 - val_accuracy: 0.9807\n",
      "Epoch 27/30\n",
      "1182/1182 [==============================] - 4s 3ms/step - loss: 0.0144 - accuracy: 0.9959 - val_loss: 0.0588 - val_accuracy: 0.9819\n",
      "Epoch 28/30\n",
      "1182/1182 [==============================] - 5s 4ms/step - loss: 0.0153 - accuracy: 0.9951 - val_loss: 0.0513 - val_accuracy: 0.9855\n",
      "Epoch 29/30\n",
      "1182/1182 [==============================] - 5s 4ms/step - loss: 0.0121 - accuracy: 0.9968 - val_loss: 0.0552 - val_accuracy: 0.9855\n",
      "Epoch 30/30\n",
      "1182/1182 [==============================] - 4s 3ms/step - loss: 0.0124 - accuracy: 0.9963 - val_loss: 0.0511 - val_accuracy: 0.9850\n"
     ]
    }
   ],
   "source": [
    "sgd = SGD(learning_rate=0.01)\n",
    "model.compile(loss='categorical_crossentropy', optimizer=sgd, metrics=['accuracy'])\n",
    "\n",
    "nepochs = 30\n",
    "tam_lote = 32\n",
    "history = model.fit(x_train, y_train, epochs=nepochs, batch_size=tam_lote, verbose=1, shuffle=True, validation_data=(x_test, y_test))"
   ]
  },
  {
   "cell_type": "code",
   "execution_count": 9,
   "id": "d2033107",
   "metadata": {
    "execution": {
     "iopub.execute_input": "2021-07-20T01:09:23.336542Z",
     "iopub.status.busy": "2021-07-20T01:09:23.335737Z",
     "iopub.status.idle": "2021-07-20T01:09:23.588888Z",
     "shell.execute_reply": "2021-07-20T01:09:23.589307Z",
     "shell.execute_reply.started": "2021-07-20T01:05:05.439455Z"
    },
    "papermill": {
     "duration": 0.841484,
     "end_time": "2021-07-20T01:09:23.589448",
     "exception": false,
     "start_time": "2021-07-20T01:09:22.747964",
     "status": "completed"
    },
    "tags": []
   },
   "outputs": [
    {
     "data": {
      "image/png": "[encoded data removed]",
      "text/plain": [
       "<Figure size 864x288 with 2 Axes>"
      ]
     },
     "metadata": {
      "needs_background": "light"
     },
     "output_type": "display_data"
    }
   ],
   "source": [
    "plt.subplots(figsize=(12,4))\n",
    "plt.subplot(121)\n",
    "plt.plot(history.history['accuracy'], c='m')\n",
    "plt.plot(history.history['val_accuracy'], c='c')\n",
    "plt.title('model accuracy')\n",
    "plt.ylabel('accuracy')\n",
    "plt.xlabel('epoch')\n",
    "plt.legend(['train', 'val'], loc='upper left')\n",
    "\n",
    "plt.subplot(122)\n",
    "plt.plot(history.history['loss'], c='m')\n",
    "plt.plot(history.history['val_loss'], c='c')\n",
    "plt.title('model loss')\n",
    "plt.ylabel('loss')\n",
    "plt.xlabel('epoch')\n",
    "plt.legend(['train', 'val'], loc='upper right')\n",
    "plt.show()"
   ]
  },
  {
   "cell_type": "markdown",
   "id": "77899857",
   "metadata": {
    "papermill": {
     "duration": 0.576053,
     "end_time": "2021-07-20T01:09:24.735920",
     "exception": false,
     "start_time": "2021-07-20T01:09:24.159867",
     "status": "completed"
    },
    "tags": []
   },
   "source": [
    "Predict: test data and validation data"
   ]
  },
  {
   "cell_type": "code",
   "execution_count": 10,
   "id": "e8fe6d64",
   "metadata": {
    "execution": {
     "iopub.execute_input": "2021-07-20T01:09:26.148602Z",
     "iopub.status.busy": "2021-07-20T01:09:26.147513Z",
     "iopub.status.idle": "2021-07-20T01:09:27.745979Z",
     "shell.execute_reply": "2021-07-20T01:09:27.745382Z",
     "shell.execute_reply.started": "2021-07-20T01:05:09.325027Z"
    },
    "papermill": {
     "duration": 2.402679,
     "end_time": "2021-07-20T01:09:27.746126",
     "exception": false,
     "start_time": "2021-07-20T01:09:25.343447",
     "status": "completed"
    },
    "tags": []
   },
   "outputs": [],
   "source": [
    "y_pred = model.predict(x_test)\n",
    "y_pred_class = np.argmax(y_pred, axis=1)\n",
    "\n",
    "y_val = model.predict(x_val)\n",
    "y_pred_val_class = np.argmax(y_val, axis=1)"
   ]
  },
  {
   "cell_type": "code",
   "execution_count": 11,
   "id": "380df2df",
   "metadata": {
    "execution": {
     "iopub.execute_input": "2021-07-20T01:09:28.904521Z",
     "iopub.status.busy": "2021-07-20T01:09:28.903036Z",
     "iopub.status.idle": "2021-07-20T01:09:29.000659Z",
     "shell.execute_reply": "2021-07-20T01:09:29.001029Z",
     "shell.execute_reply.started": "2021-07-20T01:05:12.192740Z"
    },
    "papermill": {
     "duration": 0.683631,
     "end_time": "2021-07-20T01:09:29.001177",
     "exception": false,
     "start_time": "2021-07-20T01:09:28.317546",
     "status": "completed"
    },
    "tags": []
   },
   "outputs": [
    {
     "data": {
      "image/png": "[encoded data removed]",
      "text/plain": [
       "<Figure size 432x288 with 1 Axes>"
      ]
     },
     "metadata": {
      "needs_background": "light"
     },
     "output_type": "display_data"
    }
   ],
   "source": [
    "# test data\n",
    "num = int(np.random.rand() * (len(x_test)))\n",
    "plt.imshow(x_test[num])\n",
    "title = y_pred_class[num]\n",
    "plt.title(title)\n",
    "plt.show()"
   ]
  },
  {
   "cell_type": "code",
   "execution_count": 12,
   "id": "c8627f12",
   "metadata": {
    "execution": {
     "iopub.execute_input": "2021-07-20T01:09:30.158320Z",
     "iopub.status.busy": "2021-07-20T01:09:30.157447Z",
     "iopub.status.idle": "2021-07-20T01:09:30.249574Z",
     "shell.execute_reply": "2021-07-20T01:09:30.249950Z",
     "shell.execute_reply.started": "2021-07-20T01:05:14.724836Z"
    },
    "papermill": {
     "duration": 0.678403,
     "end_time": "2021-07-20T01:09:30.250118",
     "exception": false,
     "start_time": "2021-07-20T01:09:29.571715",
     "status": "completed"
    },
    "tags": []
   },
   "outputs": [
    {
     "data": {
      "image/png": "[encoded data removed]",
      "text/plain": [
       "<Figure size 432x288 with 1 Axes>"
      ]
     },
     "metadata": {
      "needs_background": "light"
     },
     "output_type": "display_data"
    }
   ],
   "source": [
    "# Val data\n",
    "num = int(np.random.rand() * (len(x_val)))\n",
    "plt.imshow(x_val[num])\n",
    "title = y_pred_val_class[num]\n",
    "plt.title(title)\n",
    "plt.show()"
   ]
  },
  {
   "cell_type": "code",
   "execution_count": 13,
   "id": "0f0aa4ce",
   "metadata": {
    "execution": {
     "iopub.execute_input": "2021-07-20T01:09:31.406751Z",
     "iopub.status.busy": "2021-07-20T01:09:31.405857Z",
     "iopub.status.idle": "2021-07-20T01:09:33.592525Z",
     "shell.execute_reply": "2021-07-20T01:09:33.592087Z",
     "shell.execute_reply.started": "2021-07-20T01:06:23.424921Z"
    },
    "papermill": {
     "duration": 2.761467,
     "end_time": "2021-07-20T01:09:33.592685",
     "exception": false,
     "start_time": "2021-07-20T01:09:30.831218",
     "status": "completed"
    },
    "tags": []
   },
   "outputs": [
    {
     "name": "stdout",
     "output_type": "stream",
     "text": [
      "875/875 [==============================] - 2s 2ms/step - loss: 0.0264 - accuracy: 1.0000\n"
     ]
    },
    {
     "data": {
      "text/plain": [
       "[0.026441944763064384, 1.0]"
      ]
     },
     "execution_count": 13,
     "metadata": {},
     "output_type": "execute_result"
    }
   ],
   "source": [
    "model.evaluate(x_val, y_val)"
   ]
  },
  {
   "cell_type": "code",
   "execution_count": 14,
   "id": "f48a7ce8",
   "metadata": {
    "execution": {
     "iopub.execute_input": "2021-07-20T01:09:34.757255Z",
     "iopub.status.busy": "2021-07-20T01:09:34.756459Z",
     "iopub.status.idle": "2021-07-20T01:09:34.767412Z",
     "shell.execute_reply": "2021-07-20T01:09:34.767009Z",
     "shell.execute_reply.started": "2021-07-20T01:06:30.873335Z"
    },
    "papermill": {
     "duration": 0.594011,
     "end_time": "2021-07-20T01:09:34.767523",
     "exception": false,
     "start_time": "2021-07-20T01:09:34.173512",
     "status": "completed"
    },
    "tags": []
   },
   "outputs": [
    {
     "data": {
      "text/plain": [
       "array([[407,   0,   0,   0,   0,   0,   0,   0,   1,   0],\n",
       "       [  0, 469,   1,   0,   0,   0,   1,   0,   0,   0],\n",
       "       [  0,   0, 409,   3,   2,   0,   0,   5,   1,   0],\n",
       "       [  0,   0,   1, 498,   0,   3,   0,   2,   2,   0],\n",
       "       [  1,   0,   0,   0, 390,   0,   1,   1,   1,   3],\n",
       "       [  0,   0,   0,   1,   0, 336,   0,   0,   1,   1],\n",
       "       [  2,   1,   2,   0,   0,   0, 397,   0,   0,   0],\n",
       "       [  0,   0,   2,   3,   1,   0,   0, 430,   1,   1],\n",
       "       [  0,   0,   0,   1,   3,   2,   0,   1, 396,   0],\n",
       "       [  2,   0,   1,   1,   1,   3,   0,   1,   2, 405]])"
      ]
     },
     "execution_count": 14,
     "metadata": {},
     "output_type": "execute_result"
    }
   ],
   "source": [
    "# Confusion matrix\n",
    "y_test = np.argmax(y_test, axis=1)\n",
    "confusion_matrix(y_test, y_pred_class)"
   ]
  },
  {
   "cell_type": "markdown",
   "id": "9005b9e9",
   "metadata": {
    "papermill": {
     "duration": 0.590361,
     "end_time": "2021-07-20T01:09:35.937480",
     "exception": false,
     "start_time": "2021-07-20T01:09:35.347119",
     "status": "completed"
    },
    "tags": []
   },
   "source": [
    "Submission"
   ]
  },
  {
   "cell_type": "code",
   "execution_count": 15,
   "id": "e2cbe751",
   "metadata": {
    "execution": {
     "iopub.execute_input": "2021-07-20T01:09:37.325451Z",
     "iopub.status.busy": "2021-07-20T01:09:37.324920Z",
     "iopub.status.idle": "2021-07-20T01:09:37.388318Z",
     "shell.execute_reply": "2021-07-20T01:09:37.387891Z",
     "shell.execute_reply.started": "2021-07-20T01:06:40.858728Z"
    },
    "papermill": {
     "duration": 0.873445,
     "end_time": "2021-07-20T01:09:37.388435",
     "exception": false,
     "start_time": "2021-07-20T01:09:36.514990",
     "status": "completed"
    },
    "tags": []
   },
   "outputs": [],
   "source": [
    "sample = pd.read_csv('../input/digit-recognizer/sample_submission.csv')\n",
    "image_id = range(1, y_pred_val_class.shape[0] + 1)\n",
    "\n",
    "submission = pd.DataFrame({'ImageId': image_id, 'Label': y_pred_val_class})\n",
    "submission.to_csv('submission', index=False)"
   ]
  }
 ],
 "metadata": {
  "kernelspec": {
   "display_name": "Python 3",
   "language": "python",
   "name": "python3"
  },
  "language_info": {
   "codemirror_mode": {
    "name": "ipython",
    "version": 3
   },
   "file_extension": ".py",
   "mimetype": "text/x-python",
   "name": "python",
   "nbconvert_exporter": "python",
   "pygments_lexer": "ipython3",
   "version": "3.7.10"
  },
  "papermill": {
   "default_parameters": {},
   "duration": 166.817229,
   "end_time": "2021-07-20T01:09:39.949698",
   "environment_variables": {},
   "exception": null,
   "input_path": "__notebook__.ipynb",
   "output_path": "__notebook__.ipynb",
   "parameters": {},
   "start_time": "2021-07-20T01:06:53.132469",
   "version": "2.3.3"
  }
 },
 "nbformat": 4,
 "nbformat_minor": 5
}
